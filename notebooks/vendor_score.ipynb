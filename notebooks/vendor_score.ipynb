import pandas as pd
import sys
from tqdm import tqdm

sys.path.insert(1, '../scripts')
from preprocessor import remove_emojies
from pridicter import get_price

# Enable progress bars
tqdm.pandas()

# Load and clean data
df = pd.read_csv('../../data/telegram_data.csv')
df = df.dropna(subset=['Message'])
df = df.drop_duplicates(subset=['Message'])

# Preprocess messages
df['Message'] = df['Message'].progress_apply(remove_emojies)

# Extract date features
df['Date'] = pd.to_datetime(df['Date'])
df['Week'] = df['Date'].dt.isocalendar().week
df['Year'] = df['Date'].dt.isocalendar().year

# Weekly posting activity
weekly_counts = df.groupby(['Channel Username', 'Year', 'Week'])['Message'].count().reset_index()
weekly_counts = weekly_counts.rename(columns={'Message': 'posts_per_week'})

# Average posts per week per vendor
avg_posts_per_week = weekly_counts.groupby('Channel Username')['posts_per_week'].mean().reset_index()
avg_posts_per_week = avg_posts_per_week.rename(columns={'posts_per_week': 'avg_posts_per_week'})

# Average views per vendor
vendor_stats = df.groupby(['Channel Username']).agg({
    'Views': 'mean'
}).rename(columns={'Views': 'avg_views'})

vendor_stats['avg_posts_per_week'] = avg_posts_per_week.set_index('Channel Username')['avg_posts_per_week']

# Extract price
df['price'] = df['Message'].progress_apply(get_price)

# Average price per vendor
avg_price = df.groupby('Channel Username')['price'].mean().rename('avg_price').reset_index()
vendor_stats = vendor_stats.merge(avg_price, on='Channel Username', how='left')

# Lending score formula
vendor_stats['lending_score'] = (
    vendor_stats['avg_views'] * 0.5 +
    vendor_stats['avg_posts_per_week'] * 0.3 +
    vendor_stats['avg_price'] * 0.2
)

# Final scorecard
scorecard = vendor_stats.reset_index()[[
    'Channel Username', 'avg_views', 'avg_posts_per_week', 'avg_price', 'lending_score'
]].sort_values('lending_score', ascending=False)

print(scorecard.head())
